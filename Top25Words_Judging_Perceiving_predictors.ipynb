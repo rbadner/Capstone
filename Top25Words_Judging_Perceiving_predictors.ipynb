{
 "cells": [
  {
   "cell_type": "code",
   "execution_count": 1,
   "metadata": {
    "collapsed": true
   },
   "outputs": [],
   "source": [
    "import pandas as pd\n",
    "import numpy as np"
   ]
  },
  {
   "cell_type": "code",
   "execution_count": 3,
   "metadata": {},
   "outputs": [],
   "source": [
    "cv = pd.read_csv('./countvectorized posts/500feat_cv.csv')"
   ]
  },
  {
   "cell_type": "code",
   "execution_count": 4,
   "metadata": {
    "collapsed": true
   },
   "outputs": [],
   "source": [
    "X = cv.drop(cv[['Unnamed: 0','target','i_e','s_n','t_f','j_p']], axis=1)\n",
    "y_i_e = cv.i_e\n",
    "y_s_n = cv.s_n\n",
    "y_t_f = cv.t_f\n",
    "y_j_p = cv.j_p"
   ]
  },
  {
   "cell_type": "code",
   "execution_count": 5,
   "metadata": {
    "collapsed": true
   },
   "outputs": [],
   "source": [
    "from sklearn.linear_model import LogisticRegression\n",
    "from sklearn.model_selection import StratifiedKFold, cross_val_score, train_test_split"
   ]
  },
  {
   "cell_type": "code",
   "execution_count": 6,
   "metadata": {
    "collapsed": true
   },
   "outputs": [],
   "source": [
    "X_train, X_test, y_p_train, y_p_test = train_test_split(X,y_j_p, random_state=42)"
   ]
  },
  {
   "cell_type": "code",
   "execution_count": 7,
   "metadata": {
    "collapsed": true
   },
   "outputs": [],
   "source": [
    "logregp = LogisticRegression()"
   ]
  },
  {
   "cell_type": "code",
   "execution_count": 8,
   "metadata": {},
   "outputs": [
    {
     "data": {
      "text/plain": [
       "LogisticRegression(C=1.0, class_weight=None, dual=False, fit_intercept=True,\n",
       "          intercept_scaling=1, max_iter=100, multi_class='ovr', n_jobs=1,\n",
       "          penalty='l2', random_state=None, solver='liblinear', tol=0.0001,\n",
       "          verbose=0, warm_start=False)"
      ]
     },
     "execution_count": 8,
     "metadata": {},
     "output_type": "execute_result"
    }
   ],
   "source": [
    "logregp.fit(X_train,y_p_train)"
   ]
  },
  {
   "cell_type": "code",
   "execution_count": 9,
   "metadata": {},
   "outputs": [
    {
     "data": {
      "text/plain": [
       "0.7159933295715314"
      ]
     },
     "execution_count": 9,
     "metadata": {},
     "output_type": "execute_result"
    }
   ],
   "source": [
    "kfold = StratifiedKFold()\n",
    "cross_val_score(logregp, X_test, y_p_test, cv=kfold, scoring='accuracy').mean()"
   ]
  },
  {
   "cell_type": "code",
   "execution_count": null,
   "metadata": {
    "collapsed": true
   },
   "outputs": [],
   "source": []
  },
  {
   "cell_type": "code",
   "execution_count": 10,
   "metadata": {
    "collapsed": true
   },
   "outputs": [],
   "source": [
    "df = pd.DataFrame(zip(logregp.coef_.T, X_train.columns))\n",
    "df.columns = ['coef','word']"
   ]
  },
  {
   "cell_type": "code",
   "execution_count": 11,
   "metadata": {
    "collapsed": true
   },
   "outputs": [],
   "source": [
    "df.coef = [x[0] for x in df.coef]"
   ]
  },
  {
   "cell_type": "code",
   "execution_count": 12,
   "metadata": {
    "collapsed": true
   },
   "outputs": [],
   "source": [
    "df['abs'] = abs(df.coef)"
   ]
  },
  {
   "cell_type": "code",
   "execution_count": 13,
   "metadata": {
    "collapsed": true
   },
   "outputs": [],
   "source": [
    "df = df[['word','abs','coef']]"
   ]
  },
  {
   "cell_type": "code",
   "execution_count": 14,
   "metadata": {
    "scrolled": true
   },
   "outputs": [
    {
     "data": {
      "text/html": [
       "<div>\n",
       "<style scoped>\n",
       "    .dataframe tbody tr th:only-of-type {\n",
       "        vertical-align: middle;\n",
       "    }\n",
       "\n",
       "    .dataframe tbody tr th {\n",
       "        vertical-align: top;\n",
       "    }\n",
       "\n",
       "    .dataframe thead th {\n",
       "        text-align: right;\n",
       "    }\n",
       "</style>\n",
       "<table border=\"1\" class=\"dataframe\">\n",
       "  <thead>\n",
       "    <tr style=\"text-align: right;\">\n",
       "      <th></th>\n",
       "      <th>word</th>\n",
       "      <th>abs</th>\n",
       "      <th>coef</th>\n",
       "    </tr>\n",
       "  </thead>\n",
       "  <tbody>\n",
       "    <tr>\n",
       "      <th>203</th>\n",
       "      <td>infjs</td>\n",
       "      <td>0.566681</td>\n",
       "      <td>-0.566681</td>\n",
       "    </tr>\n",
       "    <tr>\n",
       "      <th>206</th>\n",
       "      <td>infps</td>\n",
       "      <td>0.360069</td>\n",
       "      <td>0.360069</td>\n",
       "    </tr>\n",
       "    <tr>\n",
       "      <th>202</th>\n",
       "      <td>infj</td>\n",
       "      <td>0.357731</td>\n",
       "      <td>-0.357731</td>\n",
       "    </tr>\n",
       "    <tr>\n",
       "      <th>104</th>\n",
       "      <td>entps</td>\n",
       "      <td>0.337943</td>\n",
       "      <td>0.337943</td>\n",
       "    </tr>\n",
       "    <tr>\n",
       "      <th>213</th>\n",
       "      <td>intjs</td>\n",
       "      <td>0.320962</td>\n",
       "      <td>-0.320962</td>\n",
       "    </tr>\n",
       "    <tr>\n",
       "      <th>297</th>\n",
       "      <td>ni</td>\n",
       "      <td>0.314693</td>\n",
       "      <td>-0.314693</td>\n",
       "    </tr>\n",
       "    <tr>\n",
       "      <th>214</th>\n",
       "      <td>intp</td>\n",
       "      <td>0.297716</td>\n",
       "      <td>0.297716</td>\n",
       "    </tr>\n",
       "    <tr>\n",
       "      <th>223</th>\n",
       "      <td>istp</td>\n",
       "      <td>0.287269</td>\n",
       "      <td>0.287269</td>\n",
       "    </tr>\n",
       "    <tr>\n",
       "      <th>212</th>\n",
       "      <td>intj</td>\n",
       "      <td>0.284331</td>\n",
       "      <td>-0.284331</td>\n",
       "    </tr>\n",
       "    <tr>\n",
       "      <th>205</th>\n",
       "      <td>infp</td>\n",
       "      <td>0.258625</td>\n",
       "      <td>0.258625</td>\n",
       "    </tr>\n",
       "    <tr>\n",
       "      <th>98</th>\n",
       "      <td>enfp</td>\n",
       "      <td>0.249454</td>\n",
       "      <td>0.249454</td>\n",
       "    </tr>\n",
       "    <tr>\n",
       "      <th>293</th>\n",
       "      <td>ne</td>\n",
       "      <td>0.240725</td>\n",
       "      <td>0.240725</td>\n",
       "    </tr>\n",
       "    <tr>\n",
       "      <th>215</th>\n",
       "      <td>intps</td>\n",
       "      <td>0.239632</td>\n",
       "      <td>0.239632</td>\n",
       "    </tr>\n",
       "    <tr>\n",
       "      <th>217</th>\n",
       "      <td>isfj</td>\n",
       "      <td>0.231520</td>\n",
       "      <td>-0.231520</td>\n",
       "    </tr>\n",
       "    <tr>\n",
       "      <th>103</th>\n",
       "      <td>entp</td>\n",
       "      <td>0.228632</td>\n",
       "      <td>0.228632</td>\n",
       "    </tr>\n",
       "    <tr>\n",
       "      <th>102</th>\n",
       "      <td>entj</td>\n",
       "      <td>0.217785</td>\n",
       "      <td>-0.217785</td>\n",
       "    </tr>\n",
       "    <tr>\n",
       "      <th>97</th>\n",
       "      <td>enfj</td>\n",
       "      <td>0.211558</td>\n",
       "      <td>-0.211558</td>\n",
       "    </tr>\n",
       "    <tr>\n",
       "      <th>221</th>\n",
       "      <td>issues</td>\n",
       "      <td>0.207062</td>\n",
       "      <td>-0.207062</td>\n",
       "    </tr>\n",
       "    <tr>\n",
       "      <th>59</th>\n",
       "      <td>control</td>\n",
       "      <td>0.198157</td>\n",
       "      <td>-0.198157</td>\n",
       "    </tr>\n",
       "    <tr>\n",
       "      <th>242</th>\n",
       "      <td>learning</td>\n",
       "      <td>0.198092</td>\n",
       "      <td>-0.198092</td>\n",
       "    </tr>\n",
       "    <tr>\n",
       "      <th>398</th>\n",
       "      <td>spend</td>\n",
       "      <td>0.195932</td>\n",
       "      <td>0.195932</td>\n",
       "    </tr>\n",
       "    <tr>\n",
       "      <th>218</th>\n",
       "      <td>isfp</td>\n",
       "      <td>0.191724</td>\n",
       "      <td>0.191724</td>\n",
       "    </tr>\n",
       "    <tr>\n",
       "      <th>198</th>\n",
       "      <td>ideas</td>\n",
       "      <td>0.189107</td>\n",
       "      <td>0.189107</td>\n",
       "    </tr>\n",
       "    <tr>\n",
       "      <th>48</th>\n",
       "      <td>close</td>\n",
       "      <td>0.187383</td>\n",
       "      <td>-0.187383</td>\n",
       "    </tr>\n",
       "    <tr>\n",
       "      <th>234</th>\n",
       "      <td>lack</td>\n",
       "      <td>0.185832</td>\n",
       "      <td>0.185832</td>\n",
       "    </tr>\n",
       "  </tbody>\n",
       "</table>\n",
       "</div>"
      ],
      "text/plain": [
       "         word       abs      coef\n",
       "203     infjs  0.566681 -0.566681\n",
       "206     infps  0.360069  0.360069\n",
       "202      infj  0.357731 -0.357731\n",
       "104     entps  0.337943  0.337943\n",
       "213     intjs  0.320962 -0.320962\n",
       "297        ni  0.314693 -0.314693\n",
       "214      intp  0.297716  0.297716\n",
       "223      istp  0.287269  0.287269\n",
       "212      intj  0.284331 -0.284331\n",
       "205      infp  0.258625  0.258625\n",
       "98       enfp  0.249454  0.249454\n",
       "293        ne  0.240725  0.240725\n",
       "215     intps  0.239632  0.239632\n",
       "217      isfj  0.231520 -0.231520\n",
       "103      entp  0.228632  0.228632\n",
       "102      entj  0.217785 -0.217785\n",
       "97       enfj  0.211558 -0.211558\n",
       "221    issues  0.207062 -0.207062\n",
       "59    control  0.198157 -0.198157\n",
       "242  learning  0.198092 -0.198092\n",
       "398     spend  0.195932  0.195932\n",
       "218      isfp  0.191724  0.191724\n",
       "198     ideas  0.189107  0.189107\n",
       "48      close  0.187383 -0.187383\n",
       "234      lack  0.185832  0.185832"
      ]
     },
     "execution_count": 14,
     "metadata": {},
     "output_type": "execute_result"
    }
   ],
   "source": [
    "#most important words for predicting J or P\n",
    "df.sort_values('abs', ascending=False).head(25)"
   ]
  },
  {
   "cell_type": "code",
   "execution_count": null,
   "metadata": {
    "collapsed": true
   },
   "outputs": [],
   "source": []
  },
  {
   "cell_type": "code",
   "execution_count": null,
   "metadata": {
    "collapsed": true,
    "scrolled": true
   },
   "outputs": [],
   "source": []
  },
  {
   "cell_type": "code",
   "execution_count": null,
   "metadata": {
    "collapsed": true
   },
   "outputs": [],
   "source": []
  },
  {
   "cell_type": "code",
   "execution_count": null,
   "metadata": {
    "collapsed": true
   },
   "outputs": [],
   "source": []
  },
  {
   "cell_type": "code",
   "execution_count": null,
   "metadata": {
    "collapsed": true
   },
   "outputs": [],
   "source": []
  },
  {
   "cell_type": "code",
   "execution_count": null,
   "metadata": {
    "collapsed": true
   },
   "outputs": [],
   "source": []
  },
  {
   "cell_type": "code",
   "execution_count": 15,
   "metadata": {},
   "outputs": [
    {
     "data": {
      "text/plain": [
       "Index([u'10', u'100', u'able', u'absolutely', u'act', u'actually', u'add',\n",
       "       u'advice', u'age', u'ago',\n",
       "       ...\n",
       "       u'wrong', u'www', u'xd', u'yeah', u'year', u'years', u'yes', u'young',\n",
       "       u'younger', u'youtube'],\n",
       "      dtype='object', length=500)"
      ]
     },
     "execution_count": 15,
     "metadata": {},
     "output_type": "execute_result"
    }
   ],
   "source": [
    "X.columns"
   ]
  },
  {
   "cell_type": "code",
   "execution_count": 16,
   "metadata": {
    "collapsed": true
   },
   "outputs": [],
   "source": [
    "X_train, X_test, y_p_train, y_p_test = train_test_split(X,y_j_p, random_state=42)"
   ]
  },
  {
   "cell_type": "code",
   "execution_count": 17,
   "metadata": {
    "collapsed": true
   },
   "outputs": [],
   "source": [
    "logregp = LogisticRegression()"
   ]
  },
  {
   "cell_type": "code",
   "execution_count": 18,
   "metadata": {},
   "outputs": [
    {
     "data": {
      "text/plain": [
       "LogisticRegression(C=1.0, class_weight=None, dual=False, fit_intercept=True,\n",
       "          intercept_scaling=1, max_iter=100, multi_class='ovr', n_jobs=1,\n",
       "          penalty='l2', random_state=None, solver='liblinear', tol=0.0001,\n",
       "          verbose=0, warm_start=False)"
      ]
     },
     "execution_count": 18,
     "metadata": {},
     "output_type": "execute_result"
    }
   ],
   "source": [
    "logregp.fit(X_train,y_p_train)"
   ]
  },
  {
   "cell_type": "code",
   "execution_count": 19,
   "metadata": {},
   "outputs": [
    {
     "data": {
      "text/plain": [
       "0.7159933295715314"
      ]
     },
     "execution_count": 19,
     "metadata": {},
     "output_type": "execute_result"
    }
   ],
   "source": [
    "kfold = StratifiedKFold()\n",
    "cross_val_score(logregp, X_test, y_p_test, cv=kfold, scoring='accuracy').mean()"
   ]
  },
  {
   "cell_type": "code",
   "execution_count": null,
   "metadata": {
    "collapsed": true
   },
   "outputs": [],
   "source": []
  },
  {
   "cell_type": "code",
   "execution_count": null,
   "metadata": {
    "collapsed": true
   },
   "outputs": [],
   "source": []
  },
  {
   "cell_type": "code",
   "execution_count": null,
   "metadata": {
    "collapsed": true
   },
   "outputs": [],
   "source": []
  },
  {
   "cell_type": "code",
   "execution_count": 20,
   "metadata": {
    "collapsed": true
   },
   "outputs": [],
   "source": [
    "df = pd.DataFrame(zip(logregp.coef_.T, X_train.columns))\n",
    "df.columns = ['coef','word']"
   ]
  },
  {
   "cell_type": "code",
   "execution_count": 21,
   "metadata": {
    "collapsed": true
   },
   "outputs": [],
   "source": [
    "df.coef = [x[0] for x in df.coef]"
   ]
  },
  {
   "cell_type": "code",
   "execution_count": 22,
   "metadata": {
    "collapsed": true
   },
   "outputs": [],
   "source": [
    "df['abs'] = abs(df.coef)"
   ]
  },
  {
   "cell_type": "code",
   "execution_count": 23,
   "metadata": {
    "collapsed": true
   },
   "outputs": [],
   "source": [
    "df = df[['word','abs','coef']]"
   ]
  },
  {
   "cell_type": "code",
   "execution_count": 24,
   "metadata": {},
   "outputs": [
    {
     "data": {
      "text/html": [
       "<div>\n",
       "<style scoped>\n",
       "    .dataframe tbody tr th:only-of-type {\n",
       "        vertical-align: middle;\n",
       "    }\n",
       "\n",
       "    .dataframe tbody tr th {\n",
       "        vertical-align: top;\n",
       "    }\n",
       "\n",
       "    .dataframe thead th {\n",
       "        text-align: right;\n",
       "    }\n",
       "</style>\n",
       "<table border=\"1\" class=\"dataframe\">\n",
       "  <thead>\n",
       "    <tr style=\"text-align: right;\">\n",
       "      <th></th>\n",
       "      <th>word</th>\n",
       "      <th>abs</th>\n",
       "      <th>coef</th>\n",
       "    </tr>\n",
       "  </thead>\n",
       "  <tbody>\n",
       "    <tr>\n",
       "      <th>203</th>\n",
       "      <td>infjs</td>\n",
       "      <td>0.566681</td>\n",
       "      <td>-0.566681</td>\n",
       "    </tr>\n",
       "    <tr>\n",
       "      <th>206</th>\n",
       "      <td>infps</td>\n",
       "      <td>0.360069</td>\n",
       "      <td>0.360069</td>\n",
       "    </tr>\n",
       "    <tr>\n",
       "      <th>202</th>\n",
       "      <td>infj</td>\n",
       "      <td>0.357731</td>\n",
       "      <td>-0.357731</td>\n",
       "    </tr>\n",
       "    <tr>\n",
       "      <th>104</th>\n",
       "      <td>entps</td>\n",
       "      <td>0.337943</td>\n",
       "      <td>0.337943</td>\n",
       "    </tr>\n",
       "    <tr>\n",
       "      <th>213</th>\n",
       "      <td>intjs</td>\n",
       "      <td>0.320962</td>\n",
       "      <td>-0.320962</td>\n",
       "    </tr>\n",
       "    <tr>\n",
       "      <th>297</th>\n",
       "      <td>ni</td>\n",
       "      <td>0.314693</td>\n",
       "      <td>-0.314693</td>\n",
       "    </tr>\n",
       "    <tr>\n",
       "      <th>214</th>\n",
       "      <td>intp</td>\n",
       "      <td>0.297716</td>\n",
       "      <td>0.297716</td>\n",
       "    </tr>\n",
       "    <tr>\n",
       "      <th>223</th>\n",
       "      <td>istp</td>\n",
       "      <td>0.287269</td>\n",
       "      <td>0.287269</td>\n",
       "    </tr>\n",
       "    <tr>\n",
       "      <th>212</th>\n",
       "      <td>intj</td>\n",
       "      <td>0.284331</td>\n",
       "      <td>-0.284331</td>\n",
       "    </tr>\n",
       "    <tr>\n",
       "      <th>205</th>\n",
       "      <td>infp</td>\n",
       "      <td>0.258625</td>\n",
       "      <td>0.258625</td>\n",
       "    </tr>\n",
       "    <tr>\n",
       "      <th>98</th>\n",
       "      <td>enfp</td>\n",
       "      <td>0.249454</td>\n",
       "      <td>0.249454</td>\n",
       "    </tr>\n",
       "    <tr>\n",
       "      <th>293</th>\n",
       "      <td>ne</td>\n",
       "      <td>0.240725</td>\n",
       "      <td>0.240725</td>\n",
       "    </tr>\n",
       "    <tr>\n",
       "      <th>215</th>\n",
       "      <td>intps</td>\n",
       "      <td>0.239632</td>\n",
       "      <td>0.239632</td>\n",
       "    </tr>\n",
       "    <tr>\n",
       "      <th>217</th>\n",
       "      <td>isfj</td>\n",
       "      <td>0.231520</td>\n",
       "      <td>-0.231520</td>\n",
       "    </tr>\n",
       "    <tr>\n",
       "      <th>103</th>\n",
       "      <td>entp</td>\n",
       "      <td>0.228632</td>\n",
       "      <td>0.228632</td>\n",
       "    </tr>\n",
       "    <tr>\n",
       "      <th>102</th>\n",
       "      <td>entj</td>\n",
       "      <td>0.217785</td>\n",
       "      <td>-0.217785</td>\n",
       "    </tr>\n",
       "    <tr>\n",
       "      <th>97</th>\n",
       "      <td>enfj</td>\n",
       "      <td>0.211558</td>\n",
       "      <td>-0.211558</td>\n",
       "    </tr>\n",
       "    <tr>\n",
       "      <th>221</th>\n",
       "      <td>issues</td>\n",
       "      <td>0.207062</td>\n",
       "      <td>-0.207062</td>\n",
       "    </tr>\n",
       "    <tr>\n",
       "      <th>59</th>\n",
       "      <td>control</td>\n",
       "      <td>0.198157</td>\n",
       "      <td>-0.198157</td>\n",
       "    </tr>\n",
       "    <tr>\n",
       "      <th>242</th>\n",
       "      <td>learning</td>\n",
       "      <td>0.198092</td>\n",
       "      <td>-0.198092</td>\n",
       "    </tr>\n",
       "    <tr>\n",
       "      <th>398</th>\n",
       "      <td>spend</td>\n",
       "      <td>0.195932</td>\n",
       "      <td>0.195932</td>\n",
       "    </tr>\n",
       "    <tr>\n",
       "      <th>218</th>\n",
       "      <td>isfp</td>\n",
       "      <td>0.191724</td>\n",
       "      <td>0.191724</td>\n",
       "    </tr>\n",
       "    <tr>\n",
       "      <th>198</th>\n",
       "      <td>ideas</td>\n",
       "      <td>0.189107</td>\n",
       "      <td>0.189107</td>\n",
       "    </tr>\n",
       "    <tr>\n",
       "      <th>48</th>\n",
       "      <td>close</td>\n",
       "      <td>0.187383</td>\n",
       "      <td>-0.187383</td>\n",
       "    </tr>\n",
       "    <tr>\n",
       "      <th>234</th>\n",
       "      <td>lack</td>\n",
       "      <td>0.185832</td>\n",
       "      <td>0.185832</td>\n",
       "    </tr>\n",
       "  </tbody>\n",
       "</table>\n",
       "</div>"
      ],
      "text/plain": [
       "         word       abs      coef\n",
       "203     infjs  0.566681 -0.566681\n",
       "206     infps  0.360069  0.360069\n",
       "202      infj  0.357731 -0.357731\n",
       "104     entps  0.337943  0.337943\n",
       "213     intjs  0.320962 -0.320962\n",
       "297        ni  0.314693 -0.314693\n",
       "214      intp  0.297716  0.297716\n",
       "223      istp  0.287269  0.287269\n",
       "212      intj  0.284331 -0.284331\n",
       "205      infp  0.258625  0.258625\n",
       "98       enfp  0.249454  0.249454\n",
       "293        ne  0.240725  0.240725\n",
       "215     intps  0.239632  0.239632\n",
       "217      isfj  0.231520 -0.231520\n",
       "103      entp  0.228632  0.228632\n",
       "102      entj  0.217785 -0.217785\n",
       "97       enfj  0.211558 -0.211558\n",
       "221    issues  0.207062 -0.207062\n",
       "59    control  0.198157 -0.198157\n",
       "242  learning  0.198092 -0.198092\n",
       "398     spend  0.195932  0.195932\n",
       "218      isfp  0.191724  0.191724\n",
       "198     ideas  0.189107  0.189107\n",
       "48      close  0.187383 -0.187383\n",
       "234      lack  0.185832  0.185832"
      ]
     },
     "execution_count": 24,
     "metadata": {},
     "output_type": "execute_result"
    }
   ],
   "source": [
    "#most important words for predicting J or P\n",
    "df.sort_values('abs', ascending=False).head(25)"
   ]
  },
  {
   "cell_type": "code",
   "execution_count": 25,
   "metadata": {},
   "outputs": [
    {
     "data": {
      "text/html": [
       "<div>\n",
       "<style scoped>\n",
       "    .dataframe tbody tr th:only-of-type {\n",
       "        vertical-align: middle;\n",
       "    }\n",
       "\n",
       "    .dataframe tbody tr th {\n",
       "        vertical-align: top;\n",
       "    }\n",
       "\n",
       "    .dataframe thead th {\n",
       "        text-align: right;\n",
       "    }\n",
       "</style>\n",
       "<table border=\"1\" class=\"dataframe\">\n",
       "  <thead>\n",
       "    <tr style=\"text-align: right;\">\n",
       "      <th></th>\n",
       "      <th>word</th>\n",
       "      <th>abs</th>\n",
       "      <th>coef</th>\n",
       "    </tr>\n",
       "  </thead>\n",
       "  <tbody>\n",
       "    <tr>\n",
       "      <th>206</th>\n",
       "      <td>infps</td>\n",
       "      <td>0.360069</td>\n",
       "      <td>0.360069</td>\n",
       "    </tr>\n",
       "    <tr>\n",
       "      <th>104</th>\n",
       "      <td>entps</td>\n",
       "      <td>0.337943</td>\n",
       "      <td>0.337943</td>\n",
       "    </tr>\n",
       "    <tr>\n",
       "      <th>214</th>\n",
       "      <td>intp</td>\n",
       "      <td>0.297716</td>\n",
       "      <td>0.297716</td>\n",
       "    </tr>\n",
       "    <tr>\n",
       "      <th>223</th>\n",
       "      <td>istp</td>\n",
       "      <td>0.287269</td>\n",
       "      <td>0.287269</td>\n",
       "    </tr>\n",
       "    <tr>\n",
       "      <th>205</th>\n",
       "      <td>infp</td>\n",
       "      <td>0.258625</td>\n",
       "      <td>0.258625</td>\n",
       "    </tr>\n",
       "    <tr>\n",
       "      <th>98</th>\n",
       "      <td>enfp</td>\n",
       "      <td>0.249454</td>\n",
       "      <td>0.249454</td>\n",
       "    </tr>\n",
       "    <tr>\n",
       "      <th>293</th>\n",
       "      <td>ne</td>\n",
       "      <td>0.240725</td>\n",
       "      <td>0.240725</td>\n",
       "    </tr>\n",
       "    <tr>\n",
       "      <th>215</th>\n",
       "      <td>intps</td>\n",
       "      <td>0.239632</td>\n",
       "      <td>0.239632</td>\n",
       "    </tr>\n",
       "    <tr>\n",
       "      <th>103</th>\n",
       "      <td>entp</td>\n",
       "      <td>0.228632</td>\n",
       "      <td>0.228632</td>\n",
       "    </tr>\n",
       "    <tr>\n",
       "      <th>398</th>\n",
       "      <td>spend</td>\n",
       "      <td>0.195932</td>\n",
       "      <td>0.195932</td>\n",
       "    </tr>\n",
       "    <tr>\n",
       "      <th>218</th>\n",
       "      <td>isfp</td>\n",
       "      <td>0.191724</td>\n",
       "      <td>0.191724</td>\n",
       "    </tr>\n",
       "    <tr>\n",
       "      <th>198</th>\n",
       "      <td>ideas</td>\n",
       "      <td>0.189107</td>\n",
       "      <td>0.189107</td>\n",
       "    </tr>\n",
       "    <tr>\n",
       "      <th>234</th>\n",
       "      <td>lack</td>\n",
       "      <td>0.185832</td>\n",
       "      <td>0.185832</td>\n",
       "    </tr>\n",
       "    <tr>\n",
       "      <th>109</th>\n",
       "      <td>estp</td>\n",
       "      <td>0.172964</td>\n",
       "      <td>0.172964</td>\n",
       "    </tr>\n",
       "    <tr>\n",
       "      <th>81</th>\n",
       "      <td>difference</td>\n",
       "      <td>0.167448</td>\n",
       "      <td>0.167448</td>\n",
       "    </tr>\n",
       "    <tr>\n",
       "      <th>169</th>\n",
       "      <td>happened</td>\n",
       "      <td>0.165048</td>\n",
       "      <td>0.165048</td>\n",
       "    </tr>\n",
       "    <tr>\n",
       "      <th>99</th>\n",
       "      <td>enfps</td>\n",
       "      <td>0.153468</td>\n",
       "      <td>0.153468</td>\n",
       "    </tr>\n",
       "    <tr>\n",
       "      <th>155</th>\n",
       "      <td>god</td>\n",
       "      <td>0.150395</td>\n",
       "      <td>0.150395</td>\n",
       "    </tr>\n",
       "    <tr>\n",
       "      <th>402</th>\n",
       "      <td>stay</td>\n",
       "      <td>0.133188</td>\n",
       "      <td>0.133188</td>\n",
       "    </tr>\n",
       "    <tr>\n",
       "      <th>93</th>\n",
       "      <td>emotional</td>\n",
       "      <td>0.128612</td>\n",
       "      <td>0.128612</td>\n",
       "    </tr>\n",
       "    <tr>\n",
       "      <th>446</th>\n",
       "      <td>turn</td>\n",
       "      <td>0.127776</td>\n",
       "      <td>0.127776</td>\n",
       "    </tr>\n",
       "    <tr>\n",
       "      <th>241</th>\n",
       "      <td>learned</td>\n",
       "      <td>0.126344</td>\n",
       "      <td>0.126344</td>\n",
       "    </tr>\n",
       "    <tr>\n",
       "      <th>220</th>\n",
       "      <td>issue</td>\n",
       "      <td>0.125346</td>\n",
       "      <td>0.125346</td>\n",
       "    </tr>\n",
       "    <tr>\n",
       "      <th>339</th>\n",
       "      <td>questions</td>\n",
       "      <td>0.124892</td>\n",
       "      <td>0.124892</td>\n",
       "    </tr>\n",
       "    <tr>\n",
       "      <th>359</th>\n",
       "      <td>room</td>\n",
       "      <td>0.122070</td>\n",
       "      <td>0.122070</td>\n",
       "    </tr>\n",
       "  </tbody>\n",
       "</table>\n",
       "</div>"
      ],
      "text/plain": [
       "           word       abs      coef\n",
       "206       infps  0.360069  0.360069\n",
       "104       entps  0.337943  0.337943\n",
       "214        intp  0.297716  0.297716\n",
       "223        istp  0.287269  0.287269\n",
       "205        infp  0.258625  0.258625\n",
       "98         enfp  0.249454  0.249454\n",
       "293          ne  0.240725  0.240725\n",
       "215       intps  0.239632  0.239632\n",
       "103        entp  0.228632  0.228632\n",
       "398       spend  0.195932  0.195932\n",
       "218        isfp  0.191724  0.191724\n",
       "198       ideas  0.189107  0.189107\n",
       "234        lack  0.185832  0.185832\n",
       "109        estp  0.172964  0.172964\n",
       "81   difference  0.167448  0.167448\n",
       "169    happened  0.165048  0.165048\n",
       "99        enfps  0.153468  0.153468\n",
       "155         god  0.150395  0.150395\n",
       "402        stay  0.133188  0.133188\n",
       "93    emotional  0.128612  0.128612\n",
       "446        turn  0.127776  0.127776\n",
       "241     learned  0.126344  0.126344\n",
       "220       issue  0.125346  0.125346\n",
       "339   questions  0.124892  0.124892\n",
       "359        room  0.122070  0.122070"
      ]
     },
     "execution_count": 25,
     "metadata": {},
     "output_type": "execute_result"
    }
   ],
   "source": [
    "p_predictors = df.sort_values('coef', ascending=False).head(25)\n",
    "p_predictors"
   ]
  },
  {
   "cell_type": "code",
   "execution_count": 26,
   "metadata": {
    "collapsed": true
   },
   "outputs": [],
   "source": [
    "p_predictors.to_csv('./Word Lists/p_predict.csv')"
   ]
  },
  {
   "cell_type": "code",
   "execution_count": 27,
   "metadata": {
    "collapsed": true
   },
   "outputs": [],
   "source": [
    "j_predictors = df.sort_values('coef', ascending=True).head(25)\n",
    "j_predictors.to_csv('./Word Lists/j_predict.csv')"
   ]
  },
  {
   "cell_type": "code",
   "execution_count": 28,
   "metadata": {},
   "outputs": [
    {
     "data": {
      "text/html": [
       "<div>\n",
       "<style scoped>\n",
       "    .dataframe tbody tr th:only-of-type {\n",
       "        vertical-align: middle;\n",
       "    }\n",
       "\n",
       "    .dataframe tbody tr th {\n",
       "        vertical-align: top;\n",
       "    }\n",
       "\n",
       "    .dataframe thead th {\n",
       "        text-align: right;\n",
       "    }\n",
       "</style>\n",
       "<table border=\"1\" class=\"dataframe\">\n",
       "  <thead>\n",
       "    <tr style=\"text-align: right;\">\n",
       "      <th></th>\n",
       "      <th>word</th>\n",
       "      <th>abs</th>\n",
       "      <th>coef</th>\n",
       "    </tr>\n",
       "  </thead>\n",
       "  <tbody>\n",
       "    <tr>\n",
       "      <th>203</th>\n",
       "      <td>infjs</td>\n",
       "      <td>0.566681</td>\n",
       "      <td>-0.566681</td>\n",
       "    </tr>\n",
       "    <tr>\n",
       "      <th>202</th>\n",
       "      <td>infj</td>\n",
       "      <td>0.357731</td>\n",
       "      <td>-0.357731</td>\n",
       "    </tr>\n",
       "    <tr>\n",
       "      <th>213</th>\n",
       "      <td>intjs</td>\n",
       "      <td>0.320962</td>\n",
       "      <td>-0.320962</td>\n",
       "    </tr>\n",
       "    <tr>\n",
       "      <th>297</th>\n",
       "      <td>ni</td>\n",
       "      <td>0.314693</td>\n",
       "      <td>-0.314693</td>\n",
       "    </tr>\n",
       "    <tr>\n",
       "      <th>212</th>\n",
       "      <td>intj</td>\n",
       "      <td>0.284331</td>\n",
       "      <td>-0.284331</td>\n",
       "    </tr>\n",
       "    <tr>\n",
       "      <th>217</th>\n",
       "      <td>isfj</td>\n",
       "      <td>0.231520</td>\n",
       "      <td>-0.231520</td>\n",
       "    </tr>\n",
       "    <tr>\n",
       "      <th>102</th>\n",
       "      <td>entj</td>\n",
       "      <td>0.217785</td>\n",
       "      <td>-0.217785</td>\n",
       "    </tr>\n",
       "    <tr>\n",
       "      <th>97</th>\n",
       "      <td>enfj</td>\n",
       "      <td>0.211558</td>\n",
       "      <td>-0.211558</td>\n",
       "    </tr>\n",
       "    <tr>\n",
       "      <th>221</th>\n",
       "      <td>issues</td>\n",
       "      <td>0.207062</td>\n",
       "      <td>-0.207062</td>\n",
       "    </tr>\n",
       "    <tr>\n",
       "      <th>59</th>\n",
       "      <td>control</td>\n",
       "      <td>0.198157</td>\n",
       "      <td>-0.198157</td>\n",
       "    </tr>\n",
       "    <tr>\n",
       "      <th>242</th>\n",
       "      <td>learning</td>\n",
       "      <td>0.198092</td>\n",
       "      <td>-0.198092</td>\n",
       "    </tr>\n",
       "    <tr>\n",
       "      <th>48</th>\n",
       "      <td>close</td>\n",
       "      <td>0.187383</td>\n",
       "      <td>-0.187383</td>\n",
       "    </tr>\n",
       "    <tr>\n",
       "      <th>216</th>\n",
       "      <td>introverted</td>\n",
       "      <td>0.169141</td>\n",
       "      <td>-0.169141</td>\n",
       "    </tr>\n",
       "    <tr>\n",
       "      <th>188</th>\n",
       "      <td>honest</td>\n",
       "      <td>0.163066</td>\n",
       "      <td>-0.163066</td>\n",
       "    </tr>\n",
       "    <tr>\n",
       "      <th>54</th>\n",
       "      <td>coming</td>\n",
       "      <td>0.157785</td>\n",
       "      <td>-0.157785</td>\n",
       "    </tr>\n",
       "    <tr>\n",
       "      <th>176</th>\n",
       "      <td>head</td>\n",
       "      <td>0.156936</td>\n",
       "      <td>-0.156936</td>\n",
       "    </tr>\n",
       "    <tr>\n",
       "      <th>33</th>\n",
       "      <td>body</td>\n",
       "      <td>0.154045</td>\n",
       "      <td>-0.154045</td>\n",
       "    </tr>\n",
       "    <tr>\n",
       "      <th>222</th>\n",
       "      <td>istj</td>\n",
       "      <td>0.147615</td>\n",
       "      <td>-0.147615</td>\n",
       "    </tr>\n",
       "    <tr>\n",
       "      <th>161</th>\n",
       "      <td>group</td>\n",
       "      <td>0.147523</td>\n",
       "      <td>-0.147523</td>\n",
       "    </tr>\n",
       "    <tr>\n",
       "      <th>105</th>\n",
       "      <td>esfj</td>\n",
       "      <td>0.142707</td>\n",
       "      <td>-0.142707</td>\n",
       "    </tr>\n",
       "    <tr>\n",
       "      <th>41</th>\n",
       "      <td>case</td>\n",
       "      <td>0.142455</td>\n",
       "      <td>-0.142455</td>\n",
       "    </tr>\n",
       "    <tr>\n",
       "      <th>2</th>\n",
       "      <td>able</td>\n",
       "      <td>0.137045</td>\n",
       "      <td>-0.137045</td>\n",
       "    </tr>\n",
       "    <tr>\n",
       "      <th>383</th>\n",
       "      <td>simple</td>\n",
       "      <td>0.134559</td>\n",
       "      <td>-0.134559</td>\n",
       "    </tr>\n",
       "    <tr>\n",
       "      <th>24</th>\n",
       "      <td>based</td>\n",
       "      <td>0.131020</td>\n",
       "      <td>-0.131020</td>\n",
       "    </tr>\n",
       "    <tr>\n",
       "      <th>397</th>\n",
       "      <td>speak</td>\n",
       "      <td>0.126870</td>\n",
       "      <td>-0.126870</td>\n",
       "    </tr>\n",
       "  </tbody>\n",
       "</table>\n",
       "</div>"
      ],
      "text/plain": [
       "            word       abs      coef\n",
       "203        infjs  0.566681 -0.566681\n",
       "202         infj  0.357731 -0.357731\n",
       "213        intjs  0.320962 -0.320962\n",
       "297           ni  0.314693 -0.314693\n",
       "212         intj  0.284331 -0.284331\n",
       "217         isfj  0.231520 -0.231520\n",
       "102         entj  0.217785 -0.217785\n",
       "97          enfj  0.211558 -0.211558\n",
       "221       issues  0.207062 -0.207062\n",
       "59       control  0.198157 -0.198157\n",
       "242     learning  0.198092 -0.198092\n",
       "48         close  0.187383 -0.187383\n",
       "216  introverted  0.169141 -0.169141\n",
       "188       honest  0.163066 -0.163066\n",
       "54        coming  0.157785 -0.157785\n",
       "176         head  0.156936 -0.156936\n",
       "33          body  0.154045 -0.154045\n",
       "222         istj  0.147615 -0.147615\n",
       "161        group  0.147523 -0.147523\n",
       "105         esfj  0.142707 -0.142707\n",
       "41          case  0.142455 -0.142455\n",
       "2           able  0.137045 -0.137045\n",
       "383       simple  0.134559 -0.134559\n",
       "24         based  0.131020 -0.131020\n",
       "397        speak  0.126870 -0.126870"
      ]
     },
     "execution_count": 28,
     "metadata": {},
     "output_type": "execute_result"
    }
   ],
   "source": [
    "j_predictors"
   ]
  },
  {
   "cell_type": "code",
   "execution_count": null,
   "metadata": {
    "collapsed": true
   },
   "outputs": [],
   "source": []
  },
  {
   "cell_type": "code",
   "execution_count": null,
   "metadata": {
    "collapsed": true
   },
   "outputs": [],
   "source": []
  }
 ],
 "metadata": {
  "kernelspec": {
   "display_name": "Python 2",
   "language": "python",
   "name": "python2"
  },
  "language_info": {
   "codemirror_mode": {
    "name": "ipython",
    "version": 2
   },
   "file_extension": ".py",
   "mimetype": "text/x-python",
   "name": "python",
   "nbconvert_exporter": "python",
   "pygments_lexer": "ipython2",
   "version": "2.7.14"
  }
 },
 "nbformat": 4,
 "nbformat_minor": 2
}
